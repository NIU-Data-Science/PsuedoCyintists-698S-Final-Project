{
 "cells": [
  {
   "cell_type": "markdown",
   "metadata": {},
   "source": [
    "# Data Science Tools and Techniques\n",
    "\n",
    "# Natural Language Processing Exercise"
   ]
  },
  {
   "cell_type": "markdown",
   "metadata": {},
   "source": [
    "Perform the tasks below to demonstrate your understanding of NLP.  You may reference the TextBlob documentation here:\n",
    "\n",
    "https://textblob.readthedocs.io/en/dev/"
   ]
  },
  {
   "cell_type": "markdown",
   "metadata": {},
   "source": [
    "Natural Language Processing is a very versatile tool in data science.  Among other things, it can be used to quantitate the affect, or emotional content, of text.  This technique is called sentiment analysis, and is often used in industry to measure how customers feel about a particular company or product.\n",
    "\n",
    "Sputnik is a Russian media outlet.  In this exercise, you will measure the sentiment of an English-language Sputnik article that mentions a U.S. political candidates."
   ]
  },
  {
   "cell_type": "raw",
   "metadata": {},
   "source": [
    "In the space below, specify the location of the news_text.txt file:"
   ]
  },
  {
   "cell_type": "code",
   "execution_count": 1,
   "metadata": {
    "collapsed": true
   },
   "outputs": [],
   "source": [
    "file_path = r''"
   ]
  },
  {
   "cell_type": "raw",
   "metadata": {},
   "source": [
    "Now, the following function can be used to import the news article as a string:"
   ]
  },
  {
   "cell_type": "code",
   "execution_count": 2,
   "metadata": {
    "collapsed": true
   },
   "outputs": [],
   "source": [
    "#open text\n",
    "def open_text(file_path):\n",
    "    with open(file_path, 'r') as document:\n",
    "        text = document.read()\n",
    "    return text"
   ]
  },
  {
   "cell_type": "raw",
   "metadata": {},
   "source": [
    "In the space below, use the above function to open the news_text.txt content, and print the resulting string:"
   ]
  },
  {
   "cell_type": "code",
   "execution_count": 5,
   "metadata": {},
   "outputs": [],
   "source": [
    "text = open_text('news_text.txt')"
   ]
  },
  {
   "cell_type": "raw",
   "metadata": {},
   "source": [
    "Now, in the space below, import TextBlob using the following:\n",
    "\n",
    "from textblob import TextBlob"
   ]
  },
  {
   "cell_type": "code",
   "execution_count": 4,
   "metadata": {
    "collapsed": true
   },
   "outputs": [],
   "source": [
    "from textblob import TextBlob"
   ]
  },
  {
   "cell_type": "raw",
   "metadata": {},
   "source": [
    "The first step is to instantiate a TextBlob object from a string of text.  This can be done as follows:\n",
    "\n",
    "blob = TextBlob(text)\n",
    "\n",
    "Instantiate the TextBlob object from the imported text in the space below, and print the result:"
   ]
  },
  {
   "cell_type": "code",
   "execution_count": 6,
   "metadata": {
    "collapsed": true
   },
   "outputs": [],
   "source": [
    "blob = TextBlob(text)"
   ]
  },
  {
   "cell_type": "markdown",
   "metadata": {},
   "source": [
    "Now that you have instatiated your text as a TextBlob object, you can perform text manipulations.  First, let's generate a list of all sentences in your TextBlob object:\n",
    "\n",
    "blob_sentences = blob.sentences\n",
    "\n",
    "Do this in the space below, and print the result (you should see a list of sentences):"
   ]
  },
  {
   "cell_type": "code",
   "execution_count": 7,
   "metadata": {
    "collapsed": true
   },
   "outputs": [],
   "source": [
    "blob_sentences = blob.sentences"
   ]
  },
  {
   "cell_type": "raw",
   "metadata": {},
   "source": [
    "Now, we want to pick out sentences that specificially mention the U.S. political candidates, since we are only interested in the affect surrounding those individuals.  The candidates in question are former Vice President Joe Biden, and Senator Bernie Sanders.  First, let's filter the article sentences so that we are only analyzing sentences that mention Mr. Biden:\n",
    "\n",
    "filtered_sentences = []\n",
    "for sentence in blob_sentences:\n",
    "    if 'Biden' in sentence:\n",
    "        filtered_sentences.append(sentence)\n",
    "\n",
    "Do this in the space below, and print the result:"
   ]
  },
  {
   "cell_type": "code",
   "execution_count": 18,
   "metadata": {
    "collapsed": true,
    "scrolled": false
   },
   "outputs": [],
   "source": [
    "Biden_filtered_sentences = []\n",
    "for sentence in blob_sentences:\n",
    "    if 'Biden' in sentence:\n",
    "        Biden_filtered_sentences.append(sentence)"
   ]
  },
  {
   "cell_type": "raw",
   "metadata": {},
   "source": [
    "Now, in the space below, do the same for Mr. Sanders:"
   ]
  },
  {
   "cell_type": "code",
   "execution_count": 19,
   "metadata": {
    "collapsed": true
   },
   "outputs": [],
   "source": [
    "Sanders_filtered_sentences = []\n",
    "for sentence in blob_sentences:\n",
    "    if 'Sanders' in sentence:\n",
    "        Sanders_filtered_sentences.append(sentence)"
   ]
  },
  {
   "cell_type": "raw",
   "metadata": {},
   "source": [
    "The next step is to measure the sentiment of each sentence, and then calculate an average sentiment for each candidate.  Sentiment has two components - objectivity and polarity.  Objectivity is the measure of how objective verses subjective a sentence is, and ranges from 0 for completely objective, to 1 for completely subjective.  Polarity is the measure of affect - how postive or negative the \"feeling\" is of the that particular sentence, and ranges from -1 (\"bad\" feelings) to +1 (\"good\" feelings).\n",
    "\n",
    "A good rule of thumb when measuring sentiment is to place a higher weight on sentences that are more subjective.  Thus, we will define our sentiment as the product of objectivity and polarity in order to weight our polarity measurements:\n",
    "\n",
    "sentiment = objectivity*polarity\n",
    "\n",
    "In TextBlob, the sentiment method will return a tuple, where the first value is the polarity, and the second value is the subjectivity:\n",
    "\n",
    "blob.sentiment\n",
    ">> ('polarity value','subjectivty value')\n",
    "\n",
    "In the space below, measure and print the sentiment of the second sentence of the \"Sanders_filtered_sentences\" list using the following command:\n",
    "\n",
    "Sanders_filtered_sentences[1].sentiment\n",
    "\n",
    "Now print the polarity:\n",
    "\n",
    "Sanders_filtered_sentences[1].sentiment[0]\n",
    "\n",
    "Now print the subjectivity:\n",
    "\n",
    "Sanders_filtered_sentences[1].sentiment[1]"
   ]
  },
  {
   "cell_type": "code",
   "execution_count": 22,
   "metadata": {},
   "outputs": [
    {
     "name": "stdout",
     "output_type": "stream",
     "text": [
      "Sentiment(polarity=0.0, subjectivity=0.5625)\n",
      "0.0\n",
      "0.5625\n"
     ]
    }
   ],
   "source": [
    "#sentiment = objectivity*polarity\n",
    "print(Sanders_filtered_sentences[1].sentiment)\n",
    "print(Sanders_filtered_sentences[1].sentiment[0])\n",
    "print(Sanders_filtered_sentences[1].sentiment[1])"
   ]
  },
  {
   "cell_type": "code",
   "execution_count": 23,
   "metadata": {},
   "outputs": [
    {
     "name": "stdout",
     "output_type": "stream",
     "text": [
      "Sentiment(polarity=0.25, subjectivity=0.45)\n",
      "0.25\n",
      "0.45\n"
     ]
    }
   ],
   "source": [
    "print(Biden_filtered_sentences[1].sentiment)\n",
    "print(Biden_filtered_sentences[1].sentiment[0])\n",
    "print(Biden_filtered_sentences[1].sentiment[1])"
   ]
  },
  {
   "cell_type": "raw",
   "metadata": {},
   "source": [
    "Now, we want to loop through the sentences in each list and append the sentiment (product of polarity and subjectivity) to each list.  We can do this as follows:\n",
    "\n",
    "Sanders_sentiment = []\n",
    "for sentence in Sanders_filtered_sentences:\n",
    "    sentiment = sentence.sentiment[0]*sentence.sentiment[1]\n",
    "    Sanders_sentiment.append(sentiment)\n",
    "\n",
    "Do this in the space below, and print the result:"
   ]
  },
  {
   "cell_type": "code",
   "execution_count": 25,
   "metadata": {},
   "outputs": [
    {
     "name": "stdout",
     "output_type": "stream",
     "text": [
      "[0.1125, 0.0, 0.08024691358024691, -0.0025850340136054414]\n"
     ]
    }
   ],
   "source": [
    "Sanders_sentiment = []\n",
    "for sentence in Sanders_filtered_sentences:\n",
    "    sentiment = sentence.sentiment[0]*sentence.sentiment[1]\n",
    "    Sanders_sentiment.append(sentiment)\n",
    "print(Sanders_sentiment)"
   ]
  },
  {
   "cell_type": "code",
   "execution_count": null,
   "metadata": {
    "collapsed": true
   },
   "outputs": [],
   "source": []
  },
  {
   "cell_type": "raw",
   "metadata": {},
   "source": [
    "Now, in the space below, repeat this for former Vice President Biden:"
   ]
  },
  {
   "cell_type": "code",
   "execution_count": 26,
   "metadata": {},
   "outputs": [
    {
     "name": "stdout",
     "output_type": "stream",
     "text": [
      "[0.02112244897959184, 0.1125, 0.08874346721989819, 0.08024691358024691, 0.2222222222222222, -0.0025850340136054414]\n"
     ]
    }
   ],
   "source": [
    "Biden_sentiment = []\n",
    "for sentence in Biden_filtered_sentences:\n",
    "    sentiment = sentence.sentiment[0]*sentence.sentiment[1]\n",
    "    Biden_sentiment.append(sentiment)\n",
    "print(Biden_sentiment)"
   ]
  },
  {
   "cell_type": "raw",
   "metadata": {},
   "source": [
    "Now, calculate the average sentiment of Senator Sanders.  Note that you will have to import the Numpy library to do this:\n",
    "\n",
    "import numpy as np\n",
    "Sanders_ave_sentiment = np.average(Sanders_sentiment)\n",
    "\n",
    "Calculate and print this in the space below:"
   ]
  },
  {
   "cell_type": "code",
   "execution_count": 28,
   "metadata": {},
   "outputs": [
    {
     "name": "stdout",
     "output_type": "stream",
     "text": [
      "0.0475404698917\n"
     ]
    }
   ],
   "source": [
    "import numpy as np\n",
    "Sanders_ave_sentiment = np.average(Sanders_sentiment)\n",
    "print(Sanders_ave_sentiment)"
   ]
  },
  {
   "cell_type": "raw",
   "metadata": {},
   "source": [
    "Now, in the space below, do this for Vice President Biden:"
   ]
  },
  {
   "cell_type": "code",
   "execution_count": 29,
   "metadata": {},
   "outputs": [
    {
     "name": "stdout",
     "output_type": "stream",
     "text": [
      "0.0870416696647\n"
     ]
    }
   ],
   "source": [
    "Biden_ave_sentiment = np.average(Biden_sentiment)\n",
    "print(Biden_ave_sentiment)"
   ]
  },
  {
   "cell_type": "code",
   "execution_count": 30,
   "metadata": {},
   "outputs": [
    {
     "name": "stdout",
     "output_type": "stream",
     "text": [
      "Former Vice President Joe Biden is considered to be the frontrunner in the US Democratic primaries despite his controversial performance during the second debate in August and a recently emerged scandal about him allegedly meddling in Ukrainian internal affairs to save his son from potential prosecution. In his latest appeal to US voters to support his election campaign, Vermont Senator Bernie Sanders has accused former Vice President Joe Biden and his allies of trying to \"buy\" the Democratic primaries. \"It should not be a surprise that wealthy donors of the political establishment are trying to buy this election. Now we need to be ready for when they do\", he said. The senator referred to a recent The New York Times article claiming that Biden's allies believe that the former vice president won't be able to win his campaign without the use of so-called Super Political Action Committees (Super PACs). Sanders claimed that such actions endanger his campaign and the entire US. \"Super PACs can raise and spend unlimited amounts of money to promote or attack candidates. They are a threat to our democracy. And frankly, they are a threat to our campaign and our hopes to transform our country\", the Vermont senator said. Sanders asked his supporters to \"chip in what they can\" in a bid to amass enough funds to overcome potential pro-Biden Super PAC efforts. All of the Democratic candidates have said they will not accept support from any Super PACs,  including Biden, according to the NYT article. Super PACs can indeed attract unlimited donations, but must spend the funds independently without directly coordinating with any of the candidates or parties, who are limited in how much funding they can attract. But they can still support certain election campaigns without coordinating with them directly. In their campaign spending, Super PACs sometimes surpass all candidates, as was the case in the 2012 Republican primaries. In the 2019 Democratic primaries, Bernie Sanders kicked off as a leader in raising funds, with an average donation of $34 in the first quarter of the year, but this later slid to only $18 in the second quarter, giving way to Biden, with average donation of $49 per individual.\n",
      "\n",
      "\n",
      "\n"
     ]
    }
   ],
   "source": [
    "print(text)"
   ]
  },
  {
   "cell_type": "raw",
   "metadata": {},
   "source": [
    "Obviously, this exercise is based on only one article, so we can't derive a statistically robust inference.  However, based on this cursory analysis, do you think this article favors Mr. Sanders or Mr. Biden (the higher the number, the better the feeling)?  Why?\n",
    "\n",
    "How might this method be useful for analyzing large bodies of news text?  What could we do to get a more robust inference?\n",
    "\n",
    "Now, read the article.  Do you think these numbers are reasonable?  Why or why not?"
   ]
  }
 ],
 "metadata": {
  "kernelspec": {
   "display_name": "Python 3",
   "language": "python",
   "name": "python3"
  },
  "language_info": {
   "codemirror_mode": {
    "name": "ipython",
    "version": 3
   },
   "file_extension": ".py",
   "mimetype": "text/x-python",
   "name": "python",
   "nbconvert_exporter": "python",
   "pygments_lexer": "ipython3",
   "version": "3.6.3"
  }
 },
 "nbformat": 4,
 "nbformat_minor": 2
}
